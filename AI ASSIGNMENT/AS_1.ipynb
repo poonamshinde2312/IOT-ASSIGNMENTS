{
 "cells": [
  {
   "cell_type": "code",
   "execution_count": 1844,
   "id": "848eb2ef-91cb-4bc5-b0a0-75e80e4baa03",
   "metadata": {},
   "outputs": [],
   "source": [
    "#1.Write a NumPy program to create an array with the values 1,7,13,105 and determine the size of the memory occupied by the array."
   ]
  },
  {
   "cell_type": "code",
   "execution_count": 1845,
   "id": "124354ab-cbc1-427f-b605-b84e7ebad1a5",
   "metadata": {},
   "outputs": [],
   "source": [
    "import numpy as np"
   ]
  },
  {
   "cell_type": "code",
   "execution_count": 1846,
   "id": "ee5b5c8e-06ab-47a2-9c89-740121d26a53",
   "metadata": {},
   "outputs": [],
   "source": [
    "\n",
    "def function():\n",
    "    n1 = np.array([1,7,13,105])\n",
    "    print(n1)\n",
    "    print(f\"Size = {n1.size}\")"
   ]
  },
  {
   "cell_type": "code",
   "execution_count": 1847,
   "id": "00f5b577-6c96-4bf7-8aba-41c467883527",
   "metadata": {},
   "outputs": [
    {
     "name": "stdout",
     "output_type": "stream",
     "text": [
      "[  1   7  13 105]\n",
      "Size = 4\n"
     ]
    }
   ],
   "source": [
    "function()"
   ]
  },
  {
   "cell_type": "code",
   "execution_count": 1848,
   "id": "93ac3e38-ab53-4831-9206-d9f5d6edc459",
   "metadata": {},
   "outputs": [],
   "source": [
    "#2.Write a NumPy program to create an element-wise comparison (greater,greater_equal,less and less_equal) of two given arrays.\n"
   ]
  },
  {
   "cell_type": "code",
   "execution_count": 1849,
   "id": "3249b4d7-9926-43e8-af6a-481e847a348f",
   "metadata": {},
   "outputs": [],
   "source": [
    "def function2():\n",
    "    x=np.array([1,2,3,4,5])\n",
    "    y=np.array([6,7,8,9,10])\n",
    "    \n",
    "    print(np.greater(x,y))\n",
    "    print(np.greater_equal(x,y))\n",
    "    print(np.less(x,y))\n",
    "    print(np.less_equal(x,y))"
   ]
  },
  {
   "cell_type": "code",
   "execution_count": 1850,
   "id": "cf622249-efc9-4d26-a191-2fd1e2d610ed",
   "metadata": {},
   "outputs": [
    {
     "name": "stdout",
     "output_type": "stream",
     "text": [
      "[False False False False False]\n",
      "[False False False False False]\n",
      "[ True  True  True  True  True]\n",
      "[ True  True  True  True  True]\n"
     ]
    }
   ],
   "source": [
    "function2()"
   ]
  },
  {
   "cell_type": "code",
   "execution_count": 1851,
   "id": "46c55533-f214-4f21-a6fe-a4ddb910b197",
   "metadata": {},
   "outputs": [],
   "source": [
    "#3.Write a NumPy program to create an array of 10 zeros,10 ones,10 fives, 10 tens,10 twentys and 10 fiftys."
   ]
  },
  {
   "cell_type": "code",
   "execution_count": 1852,
   "id": "73c1df7a-5f2b-4f50-b6e2-8257cc8e9ed0",
   "metadata": {},
   "outputs": [
    {
     "name": "stdout",
     "output_type": "stream",
     "text": [
      "[0. 0. 0. 0. 0. 0. 0. 0. 0. 0.]\n",
      "[1. 1. 1. 1. 1. 1. 1. 1. 1. 1.]\n",
      "[5. 5. 5. 5. 5. 5. 5. 5. 5. 5.]\n",
      "[10. 10. 10. 10. 10. 10. 10. 10. 10. 10.]\n",
      "[20. 20. 20. 20. 20. 20. 20. 20. 20. 20.]\n",
      "[50. 50. 50. 50. 50. 50. 50. 50. 50. 50.]\n"
     ]
    }
   ],
   "source": [
    "arr1 = np.zeros(10)\n",
    "print(arr1)\n",
    "arr2 = np.ones(10)\n",
    "print(arr2)\n",
    "arr3 = arr2 * 5\n",
    "print(arr3)\n",
    "arr4 = arr2 * 10\n",
    "print(arr4)\n",
    "arr5 = arr2 * 20\n",
    "print(arr5)\n",
    "arr6 = arr2 * 50\n",
    "print(arr6)"
   ]
  },
  {
   "cell_type": "code",
   "execution_count": 1853,
   "id": "46418882-80fa-404a-b282-3de0228e9e1f",
   "metadata": {},
   "outputs": [],
   "source": [
    "#4. Write a NumPy program to create an array of integers from 30 to 70."
   ]
  },
  {
   "cell_type": "code",
   "execution_count": 1854,
   "id": "027886d3-71df-438e-b018-77a44062e1af",
   "metadata": {},
   "outputs": [
    {
     "name": "stdout",
     "output_type": "stream",
     "text": [
      "[30 31 32 33 34 35 36 37 38 39 40 41 42 43 44 45 46 47 48 49 50 51 52 53\n",
      " 54 55 56 57 58 59 60 61 62 63 64 65 66 67 68 69 70]\n"
     ]
    }
   ],
   "source": [
    "array=np.arange(30,71)\n",
    "print(array)"
   ]
  },
  {
   "cell_type": "code",
   "execution_count": 1855,
   "id": "cef5223d-7e25-4cae-9479-68b4ac7eefe9",
   "metadata": {},
   "outputs": [],
   "source": [
    "#5. Write a NumPy program to create an array of integers from 50 to 95."
   ]
  },
  {
   "cell_type": "code",
   "execution_count": 1856,
   "id": "93b301e2-4e4f-40f3-98da-44151cd51bda",
   "metadata": {},
   "outputs": [
    {
     "name": "stdout",
     "output_type": "stream",
     "text": [
      "[49 50 51 52 53 54 55 56 57 58 59 60 61 62 63 64 65 66 67 68 69 70 71 72\n",
      " 73 74 75 76 77 78 79 80 81 82 83 84 85 86 87 88 89 90 91 92 93 94 95]\n"
     ]
    }
   ],
   "source": [
    "array=np.arange(49,96)\n",
    "print(array)"
   ]
  },
  {
   "cell_type": "code",
   "execution_count": 1857,
   "id": "bf90d028-b8a3-4387-b356-8d910924cb9c",
   "metadata": {},
   "outputs": [],
   "source": [
    "#6. Write a NumPy program to create an array of all even integers from 20 to 80."
   ]
  },
  {
   "cell_type": "code",
   "execution_count": 1858,
   "id": "3bde10bb-6290-4f24-a3a6-9815a4934d3f",
   "metadata": {},
   "outputs": [
    {
     "name": "stdout",
     "output_type": "stream",
     "text": [
      "[20 22 24 26 28 30 32 34 36 38 40 42 44 46 48 50 52 54 56 58 60 62 64 66\n",
      " 68 70 72 74 76 78 80]\n"
     ]
    }
   ],
   "source": [
    "arr1 = np.arange(20,81,2)\n",
    "print(arr1)"
   ]
  },
  {
   "cell_type": "code",
   "execution_count": 1859,
   "id": "5cd7cbc0-c9a8-4ceb-9cbf-8fdfd1718d4e",
   "metadata": {},
   "outputs": [],
   "source": [
    "#7. Write a NumPy program to create an array of all odd integers from 20 to 80."
   ]
  },
  {
   "cell_type": "code",
   "execution_count": 1860,
   "id": "8449b3ab-5e0e-4ad3-85ca-d52b9b22d822",
   "metadata": {},
   "outputs": [
    {
     "name": "stdout",
     "output_type": "stream",
     "text": [
      "[21 23 25 27 29 31 33 35 37 39 41 43 45 47 49 51 53 55 57 59 61 63 65 67\n",
      " 69 71 73 75 77 79]\n"
     ]
    }
   ],
   "source": [
    "arr1 = np.arange(21,81,2)\n",
    "print(arr1)"
   ]
  },
  {
   "cell_type": "code",
   "execution_count": 1861,
   "id": "c09c2440-edf1-4a62-b1a8-d72621673c9a",
   "metadata": {},
   "outputs": [],
   "source": [
    "#8.Write a NumPy program to generate an array of 15 random numbers from 10 to 40."
   ]
  },
  {
   "cell_type": "code",
   "execution_count": 1862,
   "id": "6c0392b0-8d8f-4130-8f7e-f1e9c985e647",
   "metadata": {},
   "outputs": [
    {
     "name": "stdout",
     "output_type": "stream",
     "text": [
      "[19 18 29 17 20 34 27 31 34 32 34 15 39 31 35]\n"
     ]
    }
   ],
   "source": [
    "arr1 = np.random.randint(10,40,15)\n",
    "print(arr1)"
   ]
  },
  {
   "cell_type": "code",
   "execution_count": 1863,
   "id": "cc0d28cf-03eb-437b-a7c7-4373ec5705a9",
   "metadata": {},
   "outputs": [],
   "source": [
    "#9. Write a NumPy program to generate an array of 10 random numbers from 30 to 50."
   ]
  },
  {
   "cell_type": "code",
   "execution_count": 1864,
   "id": "d8017a29-e5e3-4932-8d6c-555eec036f4d",
   "metadata": {},
   "outputs": [
    {
     "name": "stdout",
     "output_type": "stream",
     "text": [
      "[37 43 48 46 39 39 45 32 34 31]\n"
     ]
    }
   ],
   "source": [
    "arr1 = np.random.randint(30,50,10)\n",
    "print(arr1)"
   ]
  },
  {
   "cell_type": "code",
   "execution_count": 1865,
   "id": "3cacf140-e65a-48ed-a5cd-f634669b0526",
   "metadata": {},
   "outputs": [],
   "source": [
    "#10. Write a NumPy program to generate an array of 20 random numbers from 50 to 90."
   ]
  },
  {
   "cell_type": "code",
   "execution_count": 1866,
   "id": "defb0ba0-ac2f-4659-8480-9d35491925b7",
   "metadata": {},
   "outputs": [
    {
     "name": "stdout",
     "output_type": "stream",
     "text": [
      "[50 77 52 63 50 83 77 70 62 82 62 70 85 85 80 61 76 51 84 82]\n"
     ]
    }
   ],
   "source": [
    "arr1 = np.random.randint(50,90,20)\n",
    "print(arr1)"
   ]
  },
  {
   "cell_type": "code",
   "execution_count": 1867,
   "id": "76bb4bc8-4bd5-429f-a527-e23124b7a8c4",
   "metadata": {},
   "outputs": [],
   "source": [
    "#11. Create any two arrays & perform various mathematical operations."
   ]
  },
  {
   "cell_type": "code",
   "execution_count": 1868,
   "id": "480d5ee2-36db-4037-ad88-95fe8b4ca5c3",
   "metadata": {},
   "outputs": [
    {
     "name": "stdout",
     "output_type": "stream",
     "text": [
      "[2 3 4 5 6]\n",
      "[0 1 2 3 4]\n",
      "[1 2 3 4 5]\n",
      "[1. 2. 3. 4. 5.]\n"
     ]
    }
   ],
   "source": [
    "a1=np.array([1,2,3,4,5])\n",
    "a2=np.array([1,1,1,1,1])\n",
    "\n",
    "#Addition\n",
    "a3=a1+a2\n",
    "print(a3)\n",
    "\n",
    "#Substraction\n",
    "a4=a1-a2\n",
    "print(a4)\n",
    "\n",
    "#Multiplication\n",
    "a5 = a1*a2\n",
    "print(a5)\n",
    "\n",
    "#Divide\n",
    "a6 = a1/a2\n",
    "print(a6)\n"
   ]
  },
  {
   "cell_type": "code",
   "execution_count": 1869,
   "id": "c74e8233-21a0-4c9d-bfe6-72ae23eeee8f",
   "metadata": {},
   "outputs": [],
   "source": [
    "#12. Write a NumPy program to create a 3x4 matrix filled with values from 10 to 21."
   ]
  },
  {
   "cell_type": "code",
   "execution_count": 1870,
   "id": "41bb0372-cb3d-4eec-942c-ab3fd9d8733b",
   "metadata": {},
   "outputs": [
    {
     "name": "stdout",
     "output_type": "stream",
     "text": [
      "[[10 11 12 13]\n",
      " [14 15 16 17]\n",
      " [18 19 20 21]]\n"
     ]
    }
   ],
   "source": [
    "m = np.arange(10, 22).reshape((3, 4))\n",
    "print(m)"
   ]
  },
  {
   "cell_type": "code",
   "execution_count": 1871,
   "id": "d805e540-044c-498e-9a2b-f2012c189a8a",
   "metadata": {},
   "outputs": [],
   "source": [
    "#13.Write a NumPy program to create a 3x3 identity matrix, i.e. the diagonal elements are 1, the rest are 0.\n",
    " "
   ]
  },
  {
   "cell_type": "code",
   "execution_count": 1872,
   "id": "615b85a1-db6a-46d8-8b40-50865ef10793",
   "metadata": {},
   "outputs": [
    {
     "name": "stdout",
     "output_type": "stream",
     "text": [
      "[[1. 0. 0.]\n",
      " [0. 1. 0.]\n",
      " [0. 0. 1.]]\n"
     ]
    }
   ],
   "source": [
    "x = np.eye(3)\n",
    "print(x)\n"
   ]
  },
  {
   "cell_type": "code",
   "execution_count": 1873,
   "id": "dc2455c6-a12c-482c-96d5-fa724155491e",
   "metadata": {},
   "outputs": [],
   "source": [
    "#14. Write a NumPy program to find the number of rows and columns in a given matrix. "
   ]
  },
  {
   "cell_type": "code",
   "execution_count": 1874,
   "id": "00e29abf-42de-4ff9-a6fa-920c22e77db0",
   "metadata": {},
   "outputs": [
    {
     "name": "stdout",
     "output_type": "stream",
     "text": [
      "[[1. 0. 0.]\n",
      " [0. 1. 0.]\n",
      " [0. 0. 1.]]\n",
      "(3, 4)\n"
     ]
    }
   ],
   "source": [
    "x = np.eye(3)\n",
    "print(x)\n",
    "print(m.shape)"
   ]
  },
  {
   "cell_type": "code",
   "execution_count": 1875,
   "id": "917b83da-fc6b-49a9-bd17-bc0f51c969ba",
   "metadata": {},
   "outputs": [],
   "source": [
    "#15. Write a NumPy program to create a 5x5 zero matrix with elements on the main diagonal equal to 1, 2, 3, 4, 5.\n"
   ]
  },
  {
   "cell_type": "code",
   "execution_count": 1876,
   "id": "d6f2659a-156e-421e-8f61-f91330f73e3c",
   "metadata": {},
   "outputs": [
    {
     "name": "stdout",
     "output_type": "stream",
     "text": [
      "[[1 0 0 0 0]\n",
      " [0 2 0 0 0]\n",
      " [0 0 3 0 0]\n",
      " [0 0 0 4 0]\n",
      " [0 0 0 0 5]]\n"
     ]
    }
   ],
   "source": [
    "m = np.diag([1, 2, 3, 4, 5])\n",
    "print(m)"
   ]
  },
  {
   "cell_type": "code",
   "execution_count": 1877,
   "id": "dd708c01-857c-4c0e-bca0-99876eb0fd9c",
   "metadata": {},
   "outputs": [],
   "source": [
    "#16. Write a NumPy program to create a 3x3x3 array filled with arbitrary values."
   ]
  },
  {
   "cell_type": "code",
   "execution_count": 1878,
   "id": "d47e1ac2-3a29-470b-ba1b-7ec5d9d269c4",
   "metadata": {},
   "outputs": [
    {
     "name": "stdout",
     "output_type": "stream",
     "text": [
      "[[[0.54327891 0.17965692 0.23511543]\n",
      "  [0.46720483 0.91572818 0.59273438]\n",
      "  [0.49449174 0.78372643 0.46229029]]\n",
      "\n",
      " [[0.19322178 0.82447589 0.54945666]\n",
      "  [0.03868982 0.75796418 0.96871708]\n",
      "  [0.42555917 0.67216405 0.49876438]]\n",
      "\n",
      " [[0.01334996 0.06014045 0.84682513]\n",
      "  [0.17009312 0.44412679 0.63038156]\n",
      "  [0.14101743 0.28111599 0.3644661 ]]]\n"
     ]
    }
   ],
   "source": [
    "x = np.random.random((3, 3, 3))\n",
    "print(x)"
   ]
  },
  {
   "cell_type": "code",
   "execution_count": 1879,
   "id": "ae9c8350-dfb1-4ba9-be2c-8ea2739fd60c",
   "metadata": {},
   "outputs": [],
   "source": [
    "#17. Write a NumPy program to create a 2x3x4 array filled with arbitrary values."
   ]
  },
  {
   "cell_type": "code",
   "execution_count": 1880,
   "id": "567c53c0-ea97-48a1-8868-91a7628bd117",
   "metadata": {},
   "outputs": [
    {
     "name": "stdout",
     "output_type": "stream",
     "text": [
      "[[[0.05084009 0.32597876 0.48645889 0.30929214]\n",
      "  [0.36585071 0.71860275 0.21744968 0.77855545]\n",
      "  [0.29385971 0.38866441 0.66659218 0.81780561]]\n",
      "\n",
      " [[0.32848023 0.82684884 0.18643747 0.95838119]\n",
      "  [0.55030288 0.19972286 0.4747799  0.23110452]\n",
      "  [0.11489753 0.1255152  0.86882056 0.18307438]]]\n"
     ]
    }
   ],
   "source": [
    "x = np.random.random((2, 3, 4))\n",
    "print(x)"
   ]
  },
  {
   "cell_type": "code",
   "execution_count": 1881,
   "id": "529a8bb0-89bc-42cc-be64-defabbea662a",
   "metadata": {},
   "outputs": [],
   "source": [
    "#18. Write a NumPy program to convert a list of numeric values into a one-dimensional NumPy array."
   ]
  },
  {
   "cell_type": "code",
   "execution_count": 1882,
   "id": "0300f546-e207-49c1-864c-e30f88ca4be1",
   "metadata": {},
   "outputs": [],
   "source": [
    "def function():\n",
    "    l1 = [10,20,30,40,50]\n",
    "    print(f\"L1 = {l1} Type = {type(l1)}\")"
   ]
  },
  {
   "cell_type": "code",
   "execution_count": 1883,
   "id": "2d67974e-6599-4590-9be5-5b22e19240c9",
   "metadata": {},
   "outputs": [
    {
     "name": "stdout",
     "output_type": "stream",
     "text": [
      "L1 = [10, 20, 30, 40, 50] Type = <class 'list'>\n"
     ]
    }
   ],
   "source": [
    "function()"
   ]
  },
  {
   "cell_type": "code",
   "execution_count": 1884,
   "id": "1facdf1e-f20a-4dc7-8dda-f4a6bbb8699d",
   "metadata": {},
   "outputs": [],
   "source": [
    "#19. Write a NumPy program to create a 3x3 matrix with values ranging from 2 to 10."
   ]
  },
  {
   "cell_type": "code",
   "execution_count": 1885,
   "id": "bdb7c407-b920-44eb-9ceb-d5e83f4b49e2",
   "metadata": {},
   "outputs": [
    {
     "name": "stdout",
     "output_type": "stream",
     "text": [
      "[[ 2  3  4]\n",
      " [ 5  6  7]\n",
      " [ 8  9 10]]\n"
     ]
    }
   ],
   "source": [
    "m = np.arange(2, 11).reshape((3, 3))\n",
    "print(m)"
   ]
  },
  {
   "cell_type": "code",
   "execution_count": 1886,
   "id": "b0e76974-34f8-4438-af45-7734067043a9",
   "metadata": {},
   "outputs": [],
   "source": [
    "#20. Write a NumPy program to create an array with values ranging from 12 to 38."
   ]
  },
  {
   "cell_type": "code",
   "execution_count": 1887,
   "id": "d54962b7-ff07-4dff-94fa-a776c174abf0",
   "metadata": {},
   "outputs": [
    {
     "name": "stdout",
     "output_type": "stream",
     "text": [
      "[12 13 14 15 16 17 18 19 20 21 22 23 24 25 26 27 28 29 30 31 32 33 34 35\n",
      " 36 37 38]\n"
     ]
    }
   ],
   "source": [
    "arr1 = np.arange(12,39)\n",
    "print(arr1)"
   ]
  },
  {
   "cell_type": "code",
   "execution_count": 1888,
   "id": "fbfbb4c0-c096-4528-ab4e-1c3b7e34ffac",
   "metadata": {},
   "outputs": [],
   "source": [
    "#21.Write a NumPy program to reverse an array (the first element becomes the last).\n"
   ]
  },
  {
   "cell_type": "code",
   "execution_count": 1889,
   "id": "fc5d328f-6b45-4e28-a800-138183cb4144",
   "metadata": {},
   "outputs": [
    {
     "name": "stdout",
     "output_type": "stream",
     "text": [
      "[12 13 14 15 16 17 18 19 20 21 22 23 24 25 26 27 28 29 30 31 32 33 34 35\n",
      " 36 37]\n",
      "[37 36 35 34 33 32 31 30 29 28 27 26 25 24 23 22 21 20 19 18 17 16 15 14\n",
      " 13 12]\n"
     ]
    }
   ],
   "source": [
    "x = np.arange(12, 38)\n",
    "print(x)\n",
    "x= x[::-1]\n",
    "print(x)"
   ]
  },
  {
   "cell_type": "code",
   "execution_count": 1890,
   "id": "c5ebb95b-332d-4fd9-8375-ead284ce35ad",
   "metadata": {},
   "outputs": [],
   "source": [
    "# 22. Write a NumPy program to convert an data type into to a floating type."
   ]
  },
  {
   "cell_type": "code",
   "execution_count": 1891,
   "id": "33602637-1157-40be-8644-a1733558646e",
   "metadata": {},
   "outputs": [
    {
     "name": "stdout",
     "output_type": "stream",
     "text": [
      "[12, 2, 3, 4]\n",
      "[12.  2.  3.  4.]\n"
     ]
    }
   ],
   "source": [
    "a = [12, 2, 3, 4]\n",
    "print(a)\n",
    "x = np.asfarray(a)\n",
    "print(x)\n"
   ]
  },
  {
   "cell_type": "code",
   "execution_count": 1892,
   "id": "66a2a3ad-5680-4e2b-95e3-7fd30589bc9c",
   "metadata": {},
   "outputs": [],
   "source": [
    "# 23. Write a NumPy program to convert a list array."
   ]
  },
  {
   "cell_type": "code",
   "execution_count": 1893,
   "id": "0d84e91c-3932-4b4f-9529-d51558306ecd",
   "metadata": {},
   "outputs": [
    {
     "name": "stdout",
     "output_type": "stream",
     "text": [
      "[1 2 3 4 5 6 7 8]\n"
     ]
    }
   ],
   "source": [
    "my_list = [1, 2, 3, 4, 5, 6, 7, 8]\n",
    "print(np.asarray(my_list))"
   ]
  },
  {
   "cell_type": "code",
   "execution_count": 1894,
   "id": "253674bb-910f-4dd2-a40f-2c462907e104",
   "metadata": {},
   "outputs": [],
   "source": [
    "# 24.Write a NumPy program to get the element-wise remainder of an array of division."
   ]
  },
  {
   "cell_type": "code",
   "execution_count": 1895,
   "id": "31ae4378-13d7-4305-b861-e07b80bd9453",
   "metadata": {},
   "outputs": [
    {
     "name": "stdout",
     "output_type": "stream",
     "text": [
      "[0 1 2 3 4 5 6]\n",
      "[0 1 2 3 4 0 1]\n"
     ]
    }
   ],
   "source": [
    "x = np.arange(7)\n",
    "print(x)\n",
    "print(np.remainder(x, 5)) "
   ]
  },
  {
   "cell_type": "code",
   "execution_count": 1896,
   "id": "52371fd2-63bd-49b9-a1a1-fe274e1a0b08",
   "metadata": {},
   "outputs": [],
   "source": [
    "# 25. Write a NumPy program to get the element-wise remainder of an array of numbers from 20 to 50 which are divisible by 3."
   ]
  },
  {
   "cell_type": "code",
   "execution_count": 1897,
   "id": "1e3368c8-e491-4164-bc8d-51c02d7ad38e",
   "metadata": {},
   "outputs": [
    {
     "name": "stdout",
     "output_type": "stream",
     "text": [
      "[20 21 22 23 24 25 26 27 28 29 30 31 32 33 34 35 36 37 38 39 40 41 42 43\n",
      " 44 45 46 47 48 49]\n",
      "[2 0 1 2 0 1 2 0 1 2 0 1 2 0 1 2 0 1 2 0 1 2 0 1 2 0 1 2 0 1]\n"
     ]
    }
   ],
   "source": [
    "x = np.arange(20,50)\n",
    "print(x)\n",
    "print(np.remainder(x, 3)) "
   ]
  },
  {
   "cell_type": "code",
   "execution_count": null,
   "id": "1e1dceb5-b5f1-48c2-be8d-e9b2a22b09f7",
   "metadata": {},
   "outputs": [],
   "source": []
  },
  {
   "cell_type": "code",
   "execution_count": null,
   "id": "fd426b63-92f1-4e77-8724-c4043685414e",
   "metadata": {},
   "outputs": [],
   "source": []
  },
  {
   "cell_type": "code",
   "execution_count": null,
   "id": "f8f6d382-5b85-4a6b-a7e1-df557b5dcbdd",
   "metadata": {},
   "outputs": [],
   "source": []
  },
  {
   "cell_type": "code",
   "execution_count": null,
   "id": "175b707f-fc6c-4584-ab12-107cdc76180c",
   "metadata": {},
   "outputs": [],
   "source": []
  }
 ],
 "metadata": {
  "kernelspec": {
   "display_name": "Python 3 (ipykernel)",
   "language": "python",
   "name": "python3"
  },
  "language_info": {
   "codemirror_mode": {
    "name": "ipython",
    "version": 3
   },
   "file_extension": ".py",
   "mimetype": "text/x-python",
   "name": "python",
   "nbconvert_exporter": "python",
   "pygments_lexer": "ipython3",
   "version": "3.10.12"
  }
 },
 "nbformat": 4,
 "nbformat_minor": 5
}
